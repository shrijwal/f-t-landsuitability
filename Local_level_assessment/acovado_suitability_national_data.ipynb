{
 "cells": [
  {
   "cell_type": "markdown",
   "metadata": {},
   "source": [
    "## Land suitability for avocado in Morocco using national level data\n",
    "\n",
    "Authors: Gianluca Franceschini (FAO, NSL), Shrijwal Adhikari (FAO, NSL)\n",
    "\n",
    "Contact: gianluca.franceschini@fao.org / shrijwal.adhikari@fao.org\n",
    "\n",
    "---\n",
    "\n",
    "The present study assess the land suitable for avocado in Morocco using the similar approach assessed by Gianluca Franceschini for Fast track land suitability for avocado in Morocco. This assessment uses original vector data from the annalysis conducted by Rachid Moussadek and Hamza Iaaich in 2020 comprising the region of Rabat, Salé, Kénitra and the province of Larache. \n",
    "\n",
    "We used a similar approach for this region but converting vector to raster of resolution 60m. 60m was chosen as a balance between processing speed and size of the data itself. It uses land cover data, data relating with physiography (aspect and exposure) and soil characteristics (texture, drainage). These factors are matched against specific thresholds identifying optimal suitable, intermediate and not suitable conditions. Then, the individual layers were overlaid to get a final score for the whole area of interest. The purpose of the analysis was to use similar approach used for Fast track land suitability but using local data and tally the results. "
   ]
  },
  {
   "cell_type": "code",
   "execution_count": 1,
   "metadata": {},
   "outputs": [],
   "source": [
    "\"\"\"Import libraries\"\"\"\n",
    "import os\n",
    "import matplotlib.pyplot as plt\n",
    "from matplotlib import colors\n",
    "import numpy as np\n",
    "from osgeo import gdal"
   ]
  },
  {
   "cell_type": "code",
   "execution_count": 2,
   "metadata": {
    "scrolled": true
   },
   "outputs": [],
   "source": [
    "\"\"\"Set parameters\"\"\"\n",
    "base_path = r\"/media/sri/Shrijwal/fao_shri_gis/loukkos_vector/raster60/AOI/raster\" #Root to be updated if different\n",
    "os.chdir(base_path)\n",
    "ref_raster = './Suitability/reference.tif'"
   ]
  },
  {
   "cell_type": "markdown",
   "metadata": {},
   "source": [
    "## Data sources\n",
    "\n",
    "Data have been obtained from the project data of Rachid Moussadek and Hamza Iaaich in 2020.\n",
    "The spatial resolution was set to 60m.\n",
    "\n",
    "The data used for the analysis were:\n",
    "1. Land cover\n",
    "2. Exposition\n",
    "3. Slope\n",
    "4. Drainage\n",
    "5. Texture"
   ]
  },
  {
   "cell_type": "markdown",
   "metadata": {},
   "source": [
    "|**Data** |**Source/Provider** |**Resolution**| \n",
    "|:-- |:-- |:-- |\n",
    "|Exposition |ASTER degital elevation model|30m|\n",
    "|Slope |ASTER degital elevation model|30m|\n",
    "|Soil |INRA (2000)|vector  1:500,000 scale|"
   ]
  },
  {
   "cell_type": "code",
   "execution_count": null,
   "metadata": {},
   "outputs": [],
   "source": [
    "# \"\"\"Read data\"\"\"\n",
    "\n",
    "drainage = gdal.Open('AOI-drainage_26191.tif').ReadAsArray()\n",
    "drainage = drainage[:,:-1] #Remove one line to have the same shape\n",
    "exposure = gdal.Open('AOI-exposure_26191.tif').ReadAsArray()\n",
    "exposure=exposure[:,:-1]\n",
    "landc = gdal.Open('AOI-LC_26191.tif').ReadAsArray()\n",
    "slope  = gdal.Open('AOI-slope_26191.tif').ReadAsArray()\n",
    "texture  = gdal.Open('AOI-texture_26191.tif').ReadAsArray()\n",
    "texture=texture[:,:-1]"
   ]
  },
  {
   "cell_type": "code",
   "execution_count": 4,
   "metadata": {},
   "outputs": [],
   "source": [
    "\"\"\"Function to export the results\"\"\"\n",
    "def saveRaster(ref_raster_path, out_path, numpy_raster):\n",
    "\n",
    "    # Read random image to get projection data\n",
    "    img = gdal.Open(ref_raster_path)\n",
    "    # allocating space in hard drive\n",
    "    driver = gdal.GetDriverByName(\"GTiff\")\n",
    "    outdata = driver.Create(out_path, img.RasterXSize, img.RasterYSize, 1, gdal.GDT_Float32)\n",
    "    # set image paramenters (infrormation related to cordinates)\n",
    "    outdata.SetGeoTransform(img.GetGeoTransform())\n",
    "    outdata.SetProjection(img.GetProjection())\n",
    "    # write numpy matrix as new band and set no data value for the band\n",
    "    outdata.GetRasterBand(1).WriteArray(numpy_raster)\n",
    "    outdata.GetRasterBand(1).SetNoDataValue(0)\n",
    "    # flush data from memory to hard drive\n",
    "    outdata.FlushCache()\n",
    "    outdata=None"
   ]
  },
  {
   "cell_type": "markdown",
   "metadata": {},
   "source": [
    "## Crop parameters\n",
    "\n",
    "A land suitabilty analysis matches specific crop tolerance for soil, terrain and climate with local prevailing conditions. In order to assess the suitable thresholds for avocado, the **ECOCROP** database was used to define these values. The thresholds are typically defined for optimum conditions where the crop growth is not constraint and can express its full potential, to moderate suitability where crop growth is somehow limited, to unsuitable conditions whereas specific values of a certain factor prevent the crop growth (irrespective from the values of the other parameters, that could be potentially suitable).\n",
    "\n",
    "The following thresholds have been used for avocado:\n",
    "\n",
    "|**Parameter** |**Optimum min** |**Optimum max** |**Absolute min**|**Absolute max**|\n",
    "|:-- |:-- |:-- |:-- |:-- |\n",
    "|Minimum Temperature |14°C |na|10°C |na|\n",
    "|Maximum Temperature |na |40°C |na|45°C |\n",
    "|Precipitation |500mm |2000mm |2500mm|300mm |\n",
    "|Slope|less than 2° |na |na|15°|\n",
    "|Aspect |All except South and South-East |na |na|na |\n",
    "|Soil ph |5 |5.8 |4.5|7 |"
   ]
  },
  {
   "cell_type": "markdown",
   "metadata": {},
   "source": [
    "## Land Cover\n",
    "\n",
    "The assessment used local land cover data. It used seven different land cover classes.\n",
    "Identifying values and their corresponding land cover classes are:\n",
    "\n",
    "1 for Grandes Cultures et Maraichage/Field Crops and market gardening \n",
    "2 for Arboriculture /Arboriculture  \n",
    "3 for Forêt/Forest \n",
    "4 for Etendue d'eau/Body of Water \n",
    "5 for Terrain Non Agricole/Non- agricultural land \n",
    "6 for Sol Nu/Bare ground, and\n",
    "7 for Agriculture sous Serres/Greenhouse agriculture"
   ]
  },
  {
   "cell_type": "code",
   "execution_count": null,
   "metadata": {},
   "outputs": [],
   "source": [
    "#Define the thresholds for land cover \n",
    "#1: Grandes Cultures et Maraichage/Field Crops and market gardening 2: Arboriculture /Arboriculture  \n",
    "#3: Forêt/Forest 4: Etendue d'eau/Body of Water 5: Terrain Non Agricole/Non- agricultura land \n",
    "#6: Sol Nu/Bare ground  7: Agriculture sous Serres/Greenhouse agriculture\n",
    "\n",
    "landc_suitability = landc.copy()\n",
    "landc_suitability[(landc_suitability == 4) | (landc_suitability == 5)] = 0 #Not Suitable\n",
    "landc_suitability[(landc_suitability == 2) | (landc_suitability == 3) | (landc_suitability == 6)] = 10 #Not Suitable\n",
    "landc_suitability[(landc_suitability == 1) | (landc_suitability == 7)] = 20  #Highly Suitable\n",
    "\n",
    "\n",
    "#Export results\n",
    "saveRaster(ref_raster, \"./Suitability/landc_suitability.tif\", landc_suitability)"
   ]
  },
  {
   "cell_type": "code",
   "execution_count": null,
   "metadata": {},
   "outputs": [],
   "source": [
    "\"\"\"Display results\"\"\"\n",
    "cmap_suitability = colors.ListedColormap(['lightslategrey', 'coral', 'forestgreen']) #Define a palette\n",
    "plt.style.use(\"classic\")\n",
    "plt.imshow(landc)\n",
    "plt.title(\"Land Cover\")\n",
    "plt.colorbar()\n",
    "plt.show()\n",
    "\n",
    "\n",
    "plt.imshow(landc_suitability, cmap=cmap_suitability)\n",
    "plt.title(\"Suitability classes: landcover\")\n",
    "plt.show()"
   ]
  },
  {
   "cell_type": "markdown",
   "metadata": {},
   "source": [
    "![](landcover.png)\n",
    "![](landc-suitability.png)"
   ]
  },
  {
   "cell_type": "code",
   "execution_count": null,
   "metadata": {},
   "outputs": [],
   "source": [
    "## Physiographic analysis\n",
    "\n",
    "The physiographic analysis looked at suitable conditions in terms of slope and aspect. South and south-east expositions are considered not suitable for the growth of avocado.\n",
    "\n",
    "The following slope and aspect were again raterised to 60m for the analysis.\n",
    "\n",
    "The slope file contains following classes:\n",
    "1 as <2% slope\n",
    "2 as 2%-5% slope\n",
    "3 as 5%-15% slope\n",
    "4 as >15% slope\n",
    "\n",
    "\n",
    "The aspect file contains following classes:\n",
    "1 as Plat\n",
    "2 as N et NE\n",
    "3 as E et SE\n",
    "4 as S et SW\n",
    "5 as W et NW"
   ]
  },
  {
   "cell_type": "code",
   "execution_count": 11,
   "metadata": {},
   "outputs": [],
   "source": [
    "#Define the thresholds for slope \n",
    "# 3: 5%-15%, 4: >15%, 1:<2%, 2:2%-5%\n",
    "\n",
    "slope_suitability = slope.copy()\n",
    "slope_suitability[slope_suitability == 1] = 20 #Suitable\n",
    "slope_suitability[(slope_suitability ==2) | (slope_suitability ==3)] = 10 #Moderate Suitable\n",
    "slope_suitability[slope_suitability == 4] = 0 #Not Suitable\n",
    "\n",
    "#Export results\n",
    "saveRaster(ref_raster, \"./Suitability/slope_suitability.tif\", slope_suitability)"
   ]
  },
  {
   "cell_type": "markdown",
   "metadata": {},
   "source": [
    "\"\"\"Display results\"\"\"\n",
    "plt.style.use(\"classic\")\n",
    "plt.imshow(slope)\n",
    "plt.title(\"Land topography: slope\")\n",
    "plt.colorbar()\n",
    "plt.show()\n",
    "\n",
    "\n",
    "plt.imshow(slope_suitability, cmap=cmap_suitability)\n",
    "plt.title(\"Suitability classes: slope\")\n",
    "plt.show()"
   ]
  },
  {
   "cell_type": "markdown",
   "metadata": {},
   "source": [
    "![](slope.png)\n",
    "![](slope_suitability.png)"
   ]
  },
  {
   "cell_type": "code",
   "execution_count": 13,
   "metadata": {},
   "outputs": [],
   "source": [
    "#Define the thresholds for aspect \n",
    "#Areas oriented to south and south-east are not suitable\n",
    "#Which corresponds to the following degrees:\n",
    "#1 as Plat\n",
    "#2 as N et NE\n",
    "#3 as E et SE\n",
    "#4 as S et SW\n",
    "#5 as W et NW\n",
    "\n",
    "exposure_suitability = exposure.copy()\n",
    "exposure_suitability[(exposure_suitability == 3)] = 0 #Not suitable\n",
    "exposure_suitability[(exposure_suitability == 4)] = 10 #mediumly suitable\n",
    "exposure_suitability[(exposure_suitability == 1) | (exposure_suitability == 2) | (exposure_suitability == 5)] = 20 #highly suitable\n",
    "\n",
    "#Export results\n",
    "saveRaster(ref_raster, \"./Suitability/exposure_suitability.tif\", exposure_suitability)"
   ]
  },
  {
   "cell_type": "code",
   "execution_count": null,
   "metadata": {},
   "outputs": [],
   "source": [
    "\"\"\"Display results\"\"\"\n",
    "plt.style.use(\"classic\")\n",
    "plt.imshow(exposure)\n",
    "plt.title(\"Land topography: Exposure\")\n",
    "plt.colorbar()\n",
    "plt.show()\n",
    "\n",
    "plt.imshow(exposure_suitability, cmap=cmap_suitability)\n",
    "plt.title(\"Suitability classes: exposure\")\n",
    "plt.show()"
   ]
  },
  {
   "cell_type": "markdown",
   "metadata": {},
   "source": [
    "![](exposure.png)\n",
    "![](exposure_suitability.png)"
   ]
  },
  {
   "cell_type": "markdown",
   "metadata": {},
   "source": [
    "## Soil Parameter Analysis\n",
    "The soil parameters are also obtained from the project.\n",
    "Two soil properties were used 1: Texture and 2. Drainage\n",
    "\n",
    "The optimal requirement for Avocado in terms of texture were coarse to balanced texture and\n",
    "for drainage was medium to high.\n"
   ]
  },
  {
   "cell_type": "code",
   "execution_count": 15,
   "metadata": {},
   "outputs": [],
   "source": [
    "#Define the thresholds for drainage \n",
    "#1: Barrage/barrage \n",
    "#2: Bon/well \n",
    "#3: Faible/low \n",
    "#4: Mauvais/bad \n",
    "#5: Sol squelettique/Skeletal soil \n",
    "#6: Zone Urbaine/urban area\n",
    "drainage_suitability = drainage.copy()\n",
    "drainage_suitability[(drainage_suitability == 4) | (drainage_suitability == 1) | (drainage_suitability == 6)] = 0 #Not suitable\n",
    "drainage_suitability[(drainage_suitability == 5) | (drainage_suitability == 3)] = 10 #mediumly suitable\n",
    "drainage_suitability[(drainage_suitability == 2)] = 20 #highly suitable\n",
    "\n",
    "#Export results\n",
    "saveRaster(ref_raster, \"./Suitability/drainage_suitability.tif\", drainage_suitability)"
   ]
  },
  {
   "cell_type": "code",
   "execution_count": null,
   "metadata": {},
   "outputs": [],
   "source": [
    "\"\"\"Display results\"\"\"\n",
    "\n",
    "cmap_suitability = colors.ListedColormap(['lightslategrey', 'coral', 'forestgreen']) #Define a palette\n",
    "plt.imshow(drainage_suitability, cmap=cmap_suitability)\n",
    "plt.title(\"Suitability classes: Drainage\")\n",
    "plt.show()\n",
    "\n",
    "plt.style.use(\"classic\")\n",
    "plt.imshow(drainage)\n",
    "plt.title(\"Soil Properties: Drainage\")\n",
    "plt.colorbar()\n",
    "plt.show()"
   ]
  },
  {
   "cell_type": "markdown",
   "metadata": {},
   "source": [
    "![](drainage.png)\n",
    "![](drainage_suitability.png)"
   ]
  },
  {
   "cell_type": "code",
   "execution_count": null,
   "metadata": {},
   "outputs": [],
   "source": [
    "#Define the thresholds for texture\n",
    "#1: Argileuse/Clay \n",
    "#2: Argileuse/Equilibrée/Balanced/Clay\n",
    "#3: Barrage/Barrage \n",
    "#4: Equilibrée/Balanced \n",
    "#5: Sableuse/Sand Blaster \n",
    "#6: Sol squelettique/Skeletal soil\n",
    "#7: Zone Urbaine/Urban Area \n",
    "\n",
    "texture_suitability = texture.copy()\n",
    "texture_suitability[(texture_suitability == 2) | (texture_suitability==4)] = 20 #Suitable\n",
    "texture_suitability[(texture_suitability ==6)] = 10 #Moderate Suitable\n",
    "texture_suitability[(texture_suitability == 5) | (texture_suitability==7) | (texture_suitability==1) | (texture_suitability==3)] = 0 #Not Suitable\n",
    "\n",
    "#Export results\n",
    "saveRaster(ref_raster, \"./Suitability/texture_suitability.tif\", texture_suitability)\n",
    "\n",
    "\"\"\"Display results\"\"\"\n",
    "plt.style.use(\"classic\")\n",
    "plt.imshow(texture)\n",
    "plt.title(\"Soil properties: Texture\")\n",
    "plt.colorbar()\n",
    "plt.show()\n",
    "\n",
    "plt.imshow(texture_suitability, cmap=cmap_suitability)\n",
    "plt.title(\"Suitability classes: texture\")\n",
    "plt.show()"
   ]
  },
  {
   "cell_type": "markdown",
   "metadata": {},
   "source": [
    "![](texture.png)\n",
    "![](texture_suitability.png)"
   ]
  },
  {
   "cell_type": "markdown",
   "metadata": {},
   "source": [
    "## Combining layers\n",
    "Finally, all the land cover, terrain and soil layers were overlaid and a suitability later is generated indicating higher value as more suitable layer.\n",
    "Unsuitable layer is generated from the condition where atleast one layer/pixel is unsuitable for Avocado."
   ]
  },
  {
   "cell_type": "code",
   "execution_count": 17,
   "metadata": {},
   "outputs": [],
   "source": [
    "\"\"\"Combine layers\"\"\"\n",
    "#Any pixel where at least one layer is unsuitable is set to unsuitable\n",
    "test = exposure_suitability.copy() \n",
    "test[landc_suitability == 0] = 0\n",
    "test[texture_suitability == 0] = 0\n",
    "test[drainage_suitability == 0] = 0\n",
    "test[slope_suitability == 0] = 0\n",
    "\n",
    "combined = exposure_suitability + slope_suitability + landc_suitability + texture_suitability + drainage_suitability\n",
    "result = np.where(test > 0, combined, 0 )\n",
    "\n",
    "#Export results\n",
    "saveRaster(ref_raster, \"./Suitability/result.tif\", result)\n",
    "\n",
    "plt.imshow(result)\n",
    "plt.title(\"Combined suitability\")\n",
    "plt.colorbar()\n",
    "plt.show()"
   ]
  },
  {
   "cell_type": "markdown",
   "metadata": {},
   "source": [
    "![](combined_suitability.png)"
   ]
  },
  {
   "cell_type": "markdown",
   "metadata": {},
   "source": [
    "## Map showing average land suitability percentage through various assessments\n",
    "![](compare_all.png)"
   ]
  },
  {
   "cell_type": "code",
   "execution_count": null,
   "metadata": {},
   "outputs": [],
   "source": []
  }
 ],
 "metadata": {
  "kernelspec": {
   "display_name": "Python 3",
   "language": "python",
   "name": "python3"
  },
  "language_info": {
   "codemirror_mode": {
    "name": "ipython",
    "version": 3
   },
   "file_extension": ".py",
   "mimetype": "text/x-python",
   "name": "python",
   "nbconvert_exporter": "python",
   "pygments_lexer": "ipython3",
   "version": "3.8.5"
  }
 },
 "nbformat": 4,
 "nbformat_minor": 4
}
